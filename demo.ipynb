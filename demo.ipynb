{
 "cells": [
  {
   "cell_type": "code",
   "execution_count": 1,
   "metadata": {
    "collapsed": false
   },
   "outputs": [
    {
     "data": {
      "text/plain": [
       "Progress will be displayed slowly due to the fact that itorch updates xlua.progress every 15 seconds only once.\t\n"
      ]
     },
     "execution_count": 1,
     "metadata": {},
     "output_type": "execute_result"
    },
    {
     "data": {
      "text/plain": [
       "==> Processing options\t\n"
      ]
     },
     "execution_count": 1,
     "metadata": {},
     "output_type": "execute_result"
    },
    {
     "data": {
      "text/plain": [
       "Using itorch for demo\t\n",
       "First we will be training ten epochs\t\n"
      ]
     },
     "execution_count": 1,
     "metadata": {},
     "output_type": "execute_result"
    },
    {
     "data": {
      "text/plain": [
       "==> Doing online epoch # 1 on training data [batchSize=5]\t\n"
      ]
     },
     "execution_count": 1,
     "metadata": {},
     "output_type": "execute_result"
    },
    {
     "data": {
      "text/plain": [
       "Progress: 17271 / 60000\t\n"
      ]
     },
     "execution_count": 1,
     "metadata": {},
     "output_type": "execute_result"
    },
    {
     "data": {
      "text/plain": [
       "Progress: 34911 / 60000\t\n"
      ]
     },
     "execution_count": 1,
     "metadata": {},
     "output_type": "execute_result"
    },
    {
     "data": {
      "text/plain": [
       "Progress: 52671 / 60000\t\n"
      ]
     },
     "execution_count": 1,
     "metadata": {},
     "output_type": "execute_result"
    },
    {
     "data": {
      "text/plain": [
       "==> Time taken to learn whole dataset = 50877.110958099ms\t\n"
      ]
     },
     "execution_count": 1,
     "metadata": {},
     "output_type": "execute_result"
    },
    {
     "data": {
      "text/plain": [
       "==> Saving model to /home/franek/ConvNet/results/neuralnetwork.net\t\n"
      ]
     },
     "execution_count": 1,
     "metadata": {},
     "output_type": "execute_result"
    },
    {
     "data": {
      "text/plain": [
       "==> Testing over given dataset:\t\n"
      ]
     },
     "execution_count": 1,
     "metadata": {},
     "output_type": "execute_result"
    },
    {
     "data": {
      "text/plain": [
       "==> Time taken to test whole dataset = 3097.0809459686ms\t\n"
      ]
     },
     "execution_count": 1,
     "metadata": {},
     "output_type": "execute_result"
    },
    {
     "data": {
      "text/plain": [
       "ConfusionMatrix:\n",
       "[[     971       0       2       0       0       1       2       1       3       0]   99.082% \n",
       " [       0    1120       3       2       0       2       1       0       7       0]   98.678% \n",
       " [       4       0    1004       6       2       0       4       7       5       0]   97.287% \n",
       " [       1       0       8     982       0       6       0       5       7       1]   97.228% \n",
       " [       1       1       4       1     942       0       6       1       3      23]   95.927% \n",
       " [       4       1       1      18       0     861       3       1       3       0]   96.525% \n",
       " [       8       3       3       1       8      13     918       0       4       0]   95.825% \n",
       " [       1       9      33       8       0       0       0     953       2      22]   92.704% \n",
       " [       9       1       6      14       2       5       4       6     918       9]   94.251% \n",
       " [       7       8       2       6      15       7       0       5       3     956]]  94.747% \n",
       " + average row correct: 96.225263476372% \n",
       " + average rowUcol correct (VOC measure): 92.755051255226% \n",
       " + global correct: 96.25%\n",
       "{\n",
       "  valids : FloatTensor - size: 10\n",
       "  mat : LongTensor - size: 10x10\n",
       "  averageUnionValid : 0.92755051255226\n",
       "  _targ_idx : LongTensor - empty\n",
       "  averageValid : 0.96225263476372\n",
       "  classes : table: 0x406c0de0\n",
       "  _prediction : FloatTensor - size: 5x10\n",
       "  _pred_idx : LongTensor - size: 5x1\n",
       "  nclasses : 10\n",
       "  _max : FloatTensor - size: 5x1\n",
       "  _target : FloatTensor - size: 5\n",
       "  unionvalids : FloatTensor - size: 10\n",
       "  totalValid : 0.9625\n",
       "}\n"
      ]
     },
     "execution_count": 1,
     "metadata": {},
     "output_type": "execute_result"
    },
    {
     "data": {
      "text/plain": [
       "==> Doing online epoch # 2 on training data [batchSize=5]\t\n"
      ]
     },
     "execution_count": 1,
     "metadata": {},
     "output_type": "execute_result"
    },
    {
     "data": {
      "text/plain": [
       "Progress: 6671 / 60000\t\n"
      ]
     },
     "execution_count": 1,
     "metadata": {},
     "output_type": "execute_result"
    },
    {
     "data": {
      "text/plain": [
       "Progress: 24396 / 60000\t\n"
      ]
     },
     "execution_count": 1,
     "metadata": {},
     "output_type": "execute_result"
    },
    {
     "data": {
      "text/plain": [
       "Progress: 42366 / 60000\t\n"
      ]
     },
     "execution_count": 1,
     "metadata": {},
     "output_type": "execute_result"
    },
    {
     "data": {
      "text/plain": [
       "==> Time taken to learn whole dataset = 50461.901187897ms\t\n"
      ]
     },
     "execution_count": 1,
     "metadata": {},
     "output_type": "execute_result"
    },
    {
     "data": {
      "text/plain": [
       "==> Saving model to /home/franek/ConvNet/results/neuralnetwork.net\t\n"
      ]
     },
     "execution_count": 1,
     "metadata": {},
     "output_type": "execute_result"
    },
    {
     "data": {
      "text/plain": [
       "==> Testing over given dataset:\t\n"
      ]
     },
     "execution_count": 1,
     "metadata": {},
     "output_type": "execute_result"
    },
    {
     "data": {
      "text/plain": [
       "Progress: 616 / 10000\t\n"
      ]
     },
     "execution_count": 1,
     "metadata": {},
     "output_type": "execute_result"
    },
    {
     "data": {
      "text/plain": [
       "==> Time taken to test whole dataset = 3022.901058197ms\t\n",
       "ConfusionMatrix:\n",
       "[[     974       0       0       0       0       0       1       1       4       0]   99.388% \n",
       " [       0    1124       2       1       0       0       1       1       6       0]   99.031% \n",
       " [       6       4    1004       1       1       0       1       8       7       0]   97.287% \n",
       " [       3       0       2     991       0       4       0       5       5       0]   98.119% \n",
       " [       1       0       3       0     957       0       2       1       4      14]   97.454% \n",
       " [       5       0       0       8       0     870       3       1       5       0]   97.534% \n",
       " [      10       3       1       1       3       6     928       0       6       0]   96.868% \n",
       " [       1       6      11       3       0       0       0     998       1       8]   97.082% \n",
       " [       7       0       2       2       1       0       1       2     955       4]   98.049% \n",
       " [       4       7       0       5       5       4       0       5       1     978]]  96.928% \n",
       " + average row correct: 97.773914337158% \n",
       " + average rowUcol correct (VOC measure): 95.665407180786% \n",
       " + global correct: 97.79%\n",
       "{\n",
       "  valids : FloatTensor - size: 10\n",
       "  mat : LongTensor - size: 10x10\n",
       "  averageUnionValid : 0.95665407180786\n",
       "  _targ_idx : LongTensor - empty\n",
       "  averageValid : 0.97773914337158\n",
       "  classes : table: 0x406c0de0\n",
       "  _prediction : FloatTensor - size: 5x10\n",
       "  _pred_idx : LongTensor - size: 5x1\n",
       "  nclasses : 10\n",
       "  _max : FloatTensor - size: 5x1\n",
       "  _target : FloatTensor - size: 5\n",
       "  unionvalids : FloatTensor - size: 10\n"
      ]
     },
     "execution_count": 1,
     "metadata": {},
     "output_type": "execute_result"
    },
    {
     "data": {
      "text/plain": [
       "  totalValid : 0.9779\n",
       "}\n"
      ]
     },
     "execution_count": 1,
     "metadata": {},
     "output_type": "execute_result"
    },
    {
     "data": {
      "text/plain": [
       "==> Doing online epoch # 3 on training data [batchSize=5]\t\n"
      ]
     },
     "execution_count": 1,
     "metadata": {},
     "output_type": "execute_result"
    },
    {
     "data": {
      "text/plain": [
       "Progress: 14426 / 60000\t\n"
      ]
     },
     "execution_count": 1,
     "metadata": {},
     "output_type": "execute_result"
    },
    {
     "data": {
      "text/plain": [
       "Progress: 31996 / 60000\t\n"
      ]
     },
     "execution_count": 1,
     "metadata": {},
     "output_type": "execute_result"
    },
    {
     "data": {
      "text/plain": [
       "Progress: 49831 / 60000\t\n"
      ]
     },
     "execution_count": 1,
     "metadata": {},
     "output_type": "execute_result"
    },
    {
     "data": {
      "text/plain": [
       "==> Time taken to learn whole dataset = 50619.641065598ms\t\n"
      ]
     },
     "execution_count": 1,
     "metadata": {},
     "output_type": "execute_result"
    },
    {
     "data": {
      "text/plain": [
       "==> Saving model to /home/franek/ConvNet/results/neuralnetwork.net\t\n"
      ]
     },
     "execution_count": 1,
     "metadata": {},
     "output_type": "execute_result"
    },
    {
     "data": {
      "text/plain": [
       "==> Testing over given dataset:\t\n"
      ]
     },
     "execution_count": 1,
     "metadata": {},
     "output_type": "execute_result"
    },
    {
     "data": {
      "text/plain": [
       "==> Time taken to test whole dataset = 3010.9617710114ms\t\n",
       "ConfusionMatrix:\n",
       "[[     972       1       0       0       1       0       1       1       3       1]   99.184% \n",
       " [       0    1129       3       1       0       0       0       2       0       0]   99.471% \n",
       " [       3       2    1021       0       1       0       0       4       1       0]   98.934% \n",
       " [       1       0       2     996       0       2       0       5       2       2]   98.614% \n",
       " [       1       0       2       0     963       0       2       2       1      11]   98.065% \n",
       " [       3       0       2      12       0     854       3       1       6      11]   95.740% \n",
       " [       6       3       2       1       1       3     938       0       4       0]   97.912% \n",
       " [       1       3      10       2       0       0       0    1002       1       9]   97.471% \n",
       " [       6       1       3       5       2       0       2       2     946       7]   97.125% \n",
       " [       4       5       0       3       5       1       0       5       0     986]]  97.721% \n",
       " + average row correct: 98.023700714111% \n",
       " + average rowUcol correct (VOC measure): 96.187540888786% \n",
       " + global correct: 98.07%\n",
       "{\n",
       "  valids : FloatTensor - size: 10\n",
       "  mat : LongTensor - size: 10x10\n",
       "  averageUnionValid : 0.96187540888786\n",
       "  _targ_idx : LongTensor - empty\n",
       "  averageValid : 0.98023700714111\n",
       "  classes : table: 0x406c0de0\n",
       "  _prediction : FloatTensor - size: 5x10\n",
       "  _pred_idx : LongTensor - size: 5x1\n",
       "  nclasses : 10\n",
       "  _max : FloatTensor - size: 5x1\n",
       "  _target : FloatTensor - size: 5\n",
       "  unionvalids : FloatTensor - size: 10\n",
       "  totalValid : 0.9807\n",
       "}\n"
      ]
     },
     "execution_count": 1,
     "metadata": {},
     "output_type": "execute_result"
    },
    {
     "data": {
      "text/plain": [
       "==> Doing online epoch # 4 on training data [batchSize=5]\t\n"
      ]
     },
     "execution_count": 1,
     "metadata": {},
     "output_type": "execute_result"
    },
    {
     "data": {
      "text/plain": [
       "Progress: 4146 / 60000\t\n"
      ]
     },
     "execution_count": 1,
     "metadata": {},
     "output_type": "execute_result"
    },
    {
     "data": {
      "text/plain": [
       "Progress: 22126 / 60000\t\n"
      ]
     },
     "execution_count": 1,
     "metadata": {},
     "output_type": "execute_result"
    },
    {
     "data": {
      "text/plain": [
       "Progress: 40091 / 60000\t\n"
      ]
     },
     "execution_count": 1,
     "metadata": {},
     "output_type": "execute_result"
    },
    {
     "data": {
      "text/plain": [
       "Progress: 58066 / 60000\t\n"
      ]
     },
     "execution_count": 1,
     "metadata": {},
     "output_type": "execute_result"
    },
    {
     "data": {
      "text/plain": [
       "==> Time taken to learn whole dataset = 50023.467063904ms\t\n"
      ]
     },
     "execution_count": 1,
     "metadata": {},
     "output_type": "execute_result"
    },
    {
     "data": {
      "text/plain": [
       "==> Saving model to /home/franek/ConvNet/results/neuralnetwork.net\t\n"
      ]
     },
     "execution_count": 1,
     "metadata": {},
     "output_type": "execute_result"
    },
    {
     "data": {
      "text/plain": [
       "==> Testing over given dataset:\t\n"
      ]
     },
     "execution_count": 1,
     "metadata": {},
     "output_type": "execute_result"
    },
    {
     "data": {
      "text/plain": [
       "==> Time taken to test whole dataset = 3023.2050418854ms\t\n",
       "ConfusionMatrix:\n",
       "[[     966       0       0       0       3       0       3       2       4       2]   98.571% \n",
       " [       0    1131       1       1       0       0       0       2       0       0]   99.648% \n",
       " [       2       3    1012       0       3       0       1      10       1       0]   98.062% \n",
       " [       1       0       0     996       0       3       0       7       2       1]   98.614% \n",
       " [       0       0       1       0     977       0       1       1       1       1]   99.491% \n",
       " [       1       0       0       8       0     875       4       1       3       0]   98.094% \n",
       " [       3       3       0       0       6       1     945       0       0       0]   98.643% \n",
       " [       0       3       4       1       0       0       0    1018       1       1]   99.027% \n",
       " [       2       0       2       2       1       0       3       4     958       2]   98.357% \n",
       " [       2       6       0       3      13       2       0       6       0     977]]  96.829% \n",
       " + average row correct: 98.533596396446% \n",
       " + average rowUcol correct (VOC measure): 97.135846614838% \n",
       " + global correct: 98.55%\n",
       "{\n",
       "  valids : FloatTensor - size: 10\n",
       "  mat : LongTensor - size: 10x10\n",
       "  averageUnionValid : 0.97135846614838\n",
       "  _targ_idx : LongTensor - empty\n",
       "  averageValid : 0.98533596396446\n",
       "  classes : table: 0x406c0de0\n",
       "  _prediction : FloatTensor - size: 5x10\n",
       "  _pred_idx : LongTensor - size: 5x1\n",
       "  nclasses : 10\n"
      ]
     },
     "execution_count": 1,
     "metadata": {},
     "output_type": "execute_result"
    },
    {
     "data": {
      "text/plain": [
       "  _max : FloatTensor - size: 5x1\n",
       "  _target : FloatTensor - size: 5\n",
       "  unionvalids : FloatTensor - size: 10\n",
       "  totalValid : 0.9855\n",
       "}\n"
      ]
     },
     "execution_count": 1,
     "metadata": {},
     "output_type": "execute_result"
    },
    {
     "data": {
      "text/plain": [
       "==> Doing online epoch # 5 on training data [batchSize=5]\t\n"
      ]
     },
     "execution_count": 1,
     "metadata": {},
     "output_type": "execute_result"
    },
    {
     "data": {
      "text/plain": [
       "Progress: 12361 / 60000\t\n"
      ]
     },
     "execution_count": 1,
     "metadata": {},
     "output_type": "execute_result"
    },
    {
     "data": {
      "text/plain": [
       "Progress: 30271 / 60000\t\n"
      ]
     },
     "execution_count": 1,
     "metadata": {},
     "output_type": "execute_result"
    },
    {
     "data": {
      "text/plain": [
       "Progress: 48181 / 60000\t\n"
      ]
     },
     "execution_count": 1,
     "metadata": {},
     "output_type": "execute_result"
    },
    {
     "data": {
      "text/plain": [
       "==> Time taken to learn whole dataset = 50188.681125641ms\t\n"
      ]
     },
     "execution_count": 1,
     "metadata": {},
     "output_type": "execute_result"
    },
    {
     "data": {
      "text/plain": [
       "==> Saving model to /home/franek/ConvNet/results/neuralnetwork.net\t\n"
      ]
     },
     "execution_count": 1,
     "metadata": {},
     "output_type": "execute_result"
    },
    {
     "data": {
      "text/plain": [
       "==> Testing over given dataset:\t\n"
      ]
     },
     "execution_count": 1,
     "metadata": {},
     "output_type": "execute_result"
    },
    {
     "data": {
      "text/plain": [
       "==> Time taken to test whole dataset = 3016.3280963898ms\t\n",
       "ConfusionMatrix:\n",
       "[[     976       1       0       0       0       0       1       1       1       0]   99.592% \n",
       " [       0    1132       1       1       0       0       0       1       0       0]   99.736% \n",
       " [       4       2    1019       0       1       0       0       5       1       0]   98.740% \n",
       " [       0       0       1    1002       0       1       0       4       2       0]   99.208% \n",
       " [       0       0       1       0     980       0       1       0       0       0]   99.796% \n",
       " [       3       0       2      16       0     862       2       1       5       1]   96.637% \n",
       " [       7       3       0       1       2       1     943       0       1       0]   98.434% \n",
       " [       1       5       5       2       0       0       0    1011       1       3]   98.346% \n",
       " [       7       2       2       4       1       0       1       2     951       4]   97.639% \n",
       " [       5       6       0       3      20       0       0       5       1     969]]  96.036% \n",
       " + average row correct: 98.416368365288% \n",
       " + average rowUcol correct (VOC measure): 96.929677724838% \n",
       " + global correct: 98.45%\n",
       "{\n",
       "  valids : FloatTensor - size: 10\n",
       "  mat : LongTensor - size: 10x10\n",
       "  averageUnionValid : 0.96929677724838\n",
       "  _targ_idx : LongTensor - empty\n",
       "  averageValid : 0.98416368365288\n",
       "  classes : table: 0x406c0de0\n",
       "  _prediction : FloatTensor - size: 5x10\n",
       "  _pred_idx : LongTensor - size: 5x1\n",
       "  nclasses : 10\n",
       "  _max : FloatTensor - size: 5x1\n",
       "  _target : FloatTensor - size: 5\n",
       "  unionvalids : FloatTensor - size: 10\n",
       "  totalValid : 0.9845\n",
       "}\n"
      ]
     },
     "execution_count": 1,
     "metadata": {},
     "output_type": "execute_result"
    },
    {
     "data": {
      "text/plain": [
       "==> Doing online epoch # 6 on training data [batchSize=5]\t\n"
      ]
     },
     "execution_count": 1,
     "metadata": {},
     "output_type": "execute_result"
    },
    {
     "data": {
      "text/plain": [
       "Progress: 2466 / 60000\t\n"
      ]
     },
     "execution_count": 1,
     "metadata": {},
     "output_type": "execute_result"
    },
    {
     "data": {
      "text/plain": [
       "Progress: 20386 / 60000\t\n"
      ]
     },
     "execution_count": 1,
     "metadata": {},
     "output_type": "execute_result"
    },
    {
     "data": {
      "text/plain": [
       "Progress: 38376 / 60000\t\n"
      ]
     },
     "execution_count": 1,
     "metadata": {},
     "output_type": "execute_result"
    },
    {
     "data": {
      "text/plain": [
       "Progress: 56351 / 60000\t\n"
      ]
     },
     "execution_count": 1,
     "metadata": {},
     "output_type": "execute_result"
    },
    {
     "data": {
      "text/plain": [
       "==> Time taken to learn whole dataset = 50053.672075272ms\t\n"
      ]
     },
     "execution_count": 1,
     "metadata": {},
     "output_type": "execute_result"
    },
    {
     "data": {
      "text/plain": [
       "==> Saving model to /home/franek/ConvNet/results/neuralnetwork.net\t\n"
      ]
     },
     "execution_count": 1,
     "metadata": {},
     "output_type": "execute_result"
    },
    {
     "data": {
      "text/plain": [
       "==> Testing over given dataset:\t\n"
      ]
     },
     "execution_count": 1,
     "metadata": {},
     "output_type": "execute_result"
    },
    {
     "data": {
      "text/plain": [
       "==> Time taken to test whole dataset = 3010.9350681305ms\t\n",
       "ConfusionMatrix:\n",
       "[[     975       0       0       0       0       0       1       2       2       0]   99.490% \n",
       " [       0    1131       1       0       0       0       1       2       0       0]   99.648% \n",
       " [       1       1    1025       0       1       0       1       3       0       0]   99.322% \n",
       " [       2       0       2     998       0       4       0       2       2       0]   98.812% \n",
       " [       0       0       2       0     975       0       1       1       0       3]   99.287% \n",
       " [       2       0       0       5       0     879       2       1       1       2]   98.543% \n",
       " [       4       3       0       1       1       1     948       0       0       0]   98.956% \n",
       " [       1       2       8       2       0       0       0    1012       1       2]   98.444% \n",
       " [       5       0       2       1       1       0       2       2     958       3]   98.357% \n",
       " [       4       2       0       2       6       2       0       5       0     988]]  97.919% \n",
       " + average row correct: 98.877648711205% \n",
       " + average rowUcol correct (VOC measure): 97.795364260674% \n",
       " + global correct: 98.89%\n",
       "{\n",
       "  valids : FloatTensor - size: 10\n",
       "  mat : LongTensor - size: 10x10\n",
       "  averageUnionValid : 0.97795364260674\n",
       "  _targ_idx : LongTensor - empty\n",
       "  averageValid : 0.98877648711205\n",
       "  classes : table: 0x406c0de0\n",
       "  _prediction : FloatTensor - size: 5x10\n",
       "  _pred_idx : LongTensor - size: 5x1\n",
       "  nclasses : 10\n",
       "  _max : FloatTensor - size: 5x1\n",
       "  _target : FloatTensor - size: 5\n",
       "  unionvalids : FloatTensor - size: 10\n",
       "  totalValid : 0.9889\n",
       "}\n"
      ]
     },
     "execution_count": 1,
     "metadata": {},
     "output_type": "execute_result"
    },
    {
     "data": {
      "text/plain": [
       "==> Doing online epoch # 7 on training data [batchSize=5]\t\n"
      ]
     },
     "execution_count": 1,
     "metadata": {},
     "output_type": "execute_result"
    },
    {
     "data": {
      "text/plain": [
       "Progress: 10656 / 60000\t\n"
      ]
     },
     "execution_count": 1,
     "metadata": {},
     "output_type": "execute_result"
    },
    {
     "data": {
      "text/plain": [
       "Progress: 28571 / 60000\t\n"
      ]
     },
     "execution_count": 1,
     "metadata": {},
     "output_type": "execute_result"
    },
    {
     "data": {
      "text/plain": [
       "Progress: 46486 / 60000\t\n"
      ]
     },
     "execution_count": 1,
     "metadata": {},
     "output_type": "execute_result"
    },
    {
     "data": {
      "text/plain": [
       "==> Time taken to learn whole dataset = 50173.529148102ms\t\n"
      ]
     },
     "execution_count": 1,
     "metadata": {},
     "output_type": "execute_result"
    },
    {
     "data": {
      "text/plain": [
       "==> Saving model to /home/franek/ConvNet/results/neuralnetwork.net\t\n"
      ]
     },
     "execution_count": 1,
     "metadata": {},
     "output_type": "execute_result"
    },
    {
     "data": {
      "text/plain": [
       "==> Testing over given dataset:\t\n"
      ]
     },
     "execution_count": 1,
     "metadata": {},
     "output_type": "execute_result"
    },
    {
     "data": {
      "text/plain": [
       "==> Time taken to test whole dataset = 3019.5000171661ms\t\n",
       "ConfusionMatrix:\n",
       "[[     975       0       0       0       0       0       1       2       2       0]   99.490% \n",
       " [       0    1133       0       0       1       0       0       1       0       0]   99.824% \n",
       " [       2       2    1018       0       3       0       0       5       2       0]   98.643% \n",
       " [       1       0       0    1001       0       3       0       3       2       0]   99.109% \n",
       " [       0       0       1       0     978       0       0       0       0       3]   99.593% \n",
       " [       2       0       0       6       0     876       1       1       3       3]   98.206% \n",
       " [       9       3       0       1       6       6     932       0       1       0]   97.286% \n",
       " [       1       3       4       1       0       0       0    1012       2       5]   98.444% \n",
       " [       4       0       2       1       1       0       1       2     960       3]   98.563% \n",
       " [       3       2       0       2       8       1       0       3       1     989]]  98.018% \n",
       " + average row correct: 98.717491030693% \n",
       " + average rowUcol correct (VOC measure): 97.486242651939% \n",
       " + global correct: 98.74%\n",
       "{\n",
       "  valids : FloatTensor - size: 10\n",
       "  mat : LongTensor - size: 10x10\n",
       "  averageUnionValid : 0.97486242651939\n",
       "  _targ_idx : LongTensor - empty\n",
       "  averageValid : 0.98717491030693\n",
       "  classes : table: 0x406c0de0\n",
       "  _prediction : FloatTensor - size: 5x10\n",
       "  _pred_idx : LongTensor - size: 5x1\n",
       "  nclasses : 10\n",
       "  _max : FloatTensor - size: 5x1\n",
       "  _target : FloatTensor - size: 5\n",
       "  unionvalids : FloatTensor - size: 10\n",
       "  totalValid : 0.9874\n",
       "}\n"
      ]
     },
     "execution_count": 1,
     "metadata": {},
     "output_type": "execute_result"
    },
    {
     "data": {
      "text/plain": [
       "==> Doing online epoch # 8 on training data [batchSize=5]\t\n"
      ]
     },
     "execution_count": 1,
     "metadata": {},
     "output_type": "execute_result"
    },
    {
     "data": {
      "text/plain": [
       "Progress: 766 / 60000\t\n"
      ]
     },
     "execution_count": 1,
     "metadata": {},
     "output_type": "execute_result"
    },
    {
     "data": {
      "text/plain": [
       "Progress: 18671 / 60000\t\n"
      ]
     },
     "execution_count": 1,
     "metadata": {},
     "output_type": "execute_result"
    },
    {
     "data": {
      "text/plain": [
       "Progress: 36576 / 60000\t\n"
      ]
     },
     "execution_count": 1,
     "metadata": {},
     "output_type": "execute_result"
    },
    {
     "data": {
      "text/plain": [
       "Progress: 54476 / 60000\t\n"
      ]
     },
     "execution_count": 1,
     "metadata": {},
     "output_type": "execute_result"
    },
    {
     "data": {
      "text/plain": [
       "==> Time taken to learn whole dataset = 50207.931041718ms\t\n"
      ]
     },
     "execution_count": 1,
     "metadata": {},
     "output_type": "execute_result"
    },
    {
     "data": {
      "text/plain": [
       "==> Saving model to /home/franek/ConvNet/results/neuralnetwork.net\t\n"
      ]
     },
     "execution_count": 1,
     "metadata": {},
     "output_type": "execute_result"
    },
    {
     "data": {
      "text/plain": [
       "==> Testing over given dataset:\t\n"
      ]
     },
     "execution_count": 1,
     "metadata": {},
     "output_type": "execute_result"
    },
    {
     "data": {
      "text/plain": [
       "==> Time taken to test whole dataset = 3031.1870574951ms\t\n",
       "ConfusionMatrix:\n",
       "[[     974       0       0       0       0       0       1       2       2       1]   99.388% \n",
       " [       0    1124       1       2       1       1       0       4       2       0]   99.031% \n",
       " [       2       0    1013       0       2       0       0      12       2       1]   98.159% \n",
       " [       1       0       0    1001       0       3       0       3       2       0]   99.109% \n",
       " [       0       0       1       0     970       0       0       3       1       7]   98.778% \n",
       " [       2       0       0       5       0     876       1       1       4       3]   98.206% \n",
       " [       6       3       0       1       5       4     935       0       4       0]   97.599% \n",
       " [       0       2       3       0       0       0       0    1017       1       5]   98.930% \n",
       " [       4       0       2       1       1       0       1       3     959       3]   98.460% \n",
       " [       0       1       0       0       1       2       0       4       0    1001]]  99.207% \n",
       " + average row correct: 98.686690926552% \n",
       " + average rowUcol correct (VOC measure): 97.42206454277% \n",
       " + global correct: 98.7%\n",
       "{\n",
       "  valids : FloatTensor - size: 10\n",
       "  mat : LongTensor - size: 10x10\n",
       "  averageUnionValid : 0.9742206454277\n",
       "  _targ_idx : LongTensor - empty\n",
       "  averageValid : 0.98686690926552\n",
       "  classes : table: 0x406c0de0\n",
       "  _prediction : FloatTensor - size: 5x10\n",
       "  _pred_idx : LongTensor - size: 5x1\n",
       "  nclasses : 10\n"
      ]
     },
     "execution_count": 1,
     "metadata": {},
     "output_type": "execute_result"
    },
    {
     "data": {
      "text/plain": [
       "  _max : FloatTensor - size: 5x1\n",
       "  _target : FloatTensor - size: 5\n",
       "  unionvalids : FloatTensor - size: 10\n",
       "  totalValid : 0.987\n",
       "}\n"
      ]
     },
     "execution_count": 1,
     "metadata": {},
     "output_type": "execute_result"
    },
    {
     "data": {
      "text/plain": [
       "==> Doing online epoch # 9 on training data [batchSize=5]\t\n"
      ]
     },
     "execution_count": 1,
     "metadata": {},
     "output_type": "execute_result"
    },
    {
     "data": {
      "text/plain": [
       "Progress: 8676 / 60000\t\n"
      ]
     },
     "execution_count": 1,
     "metadata": {},
     "output_type": "execute_result"
    },
    {
     "data": {
      "text/plain": [
       "Progress: 26061 / 60000\t\n"
      ]
     },
     "execution_count": 1,
     "metadata": {},
     "output_type": "execute_result"
    },
    {
     "data": {
      "text/plain": [
       "Progress: 43721 / 60000\t\n"
      ]
     },
     "execution_count": 1,
     "metadata": {},
     "output_type": "execute_result"
    },
    {
     "data": {
      "text/plain": [
       "==> Time taken to learn whole dataset = 51073.325872421ms\t\n"
      ]
     },
     "execution_count": 1,
     "metadata": {},
     "output_type": "execute_result"
    },
    {
     "data": {
      "text/plain": [
       "==> Saving model to /home/franek/ConvNet/results/neuralnetwork.net\t\n"
      ]
     },
     "execution_count": 1,
     "metadata": {},
     "output_type": "execute_result"
    },
    {
     "data": {
      "text/plain": [
       "==> Testing over given dataset:\t\n"
      ]
     },
     "execution_count": 1,
     "metadata": {},
     "output_type": "execute_result"
    },
    {
     "data": {
      "text/plain": [
       "Progress: 3866 / 10000\t\n"
      ]
     },
     "execution_count": 1,
     "metadata": {},
     "output_type": "execute_result"
    },
    {
     "data": {
      "text/plain": [
       "==> Time taken to test whole dataset = 3107.2089672089ms\t\n",
       "ConfusionMatrix:\n",
       "[[     976       0       0       0       0       0       1       2       1       0]   99.592% \n",
       " [       0    1131       1       0       0       1       0       2       0       0]   99.648% \n",
       " [       2       1    1025       0       1       0       0       3       0       0]   99.322% \n",
       " [       1       0       0     999       0       6       0       3       1       0]   98.911% \n",
       " [       0       0       1       0     977       0       1       0       0       3]   99.491% \n",
       " [       2       0       0       2       0     885       2       1       0       0]   99.215% \n",
       " [       3       3       0       1       3       6     942       0       0       0]   98.330% \n",
       " [       1       3       4       1       0       0       0    1014       1       4]   98.638% \n",
       " [       6       0       2       3       1       3       2       2     952       3]   97.741% \n",
       " [       2       3       0       2       7       3       0       5       0     987]]  97.820% \n",
       " + average row correct: 98.870698213577% \n",
       " + average rowUcol correct (VOC measure): 97.766106724739% \n",
       " + global correct: 98.88%\n",
       "{"
      ]
     },
     "execution_count": 1,
     "metadata": {},
     "output_type": "execute_result"
    },
    {
     "data": {
      "text/plain": [
       "\n",
       "  valids : FloatTensor - size: 10\n",
       "  mat : LongTensor - size: 10x10\n",
       "  averageUnionValid : 0.97766106724739\n",
       "  _targ_idx : LongTensor - empty\n",
       "  averageValid : 0.98870698213577\n",
       "  classes : table: 0x406c0de0\n",
       "  _prediction : FloatTensor - size: 5x10\n",
       "  _pred_idx : LongTensor - size: 5x1\n",
       "  nclasses : 10\n",
       "  _max : FloatTensor - size: 5x1\n",
       "  _target : FloatTensor - size: 5\n",
       "  unionvalids : FloatTensor - size: 10\n",
       "  totalValid : 0.9888\n",
       "}\n"
      ]
     },
     "execution_count": 1,
     "metadata": {},
     "output_type": "execute_result"
    },
    {
     "data": {
      "text/plain": [
       "==> Doing online epoch # 10 on training data [batchSize=5]\t\n"
      ]
     },
     "execution_count": 1,
     "metadata": {},
     "output_type": "execute_result"
    },
    {
     "data": {
      "text/plain": [
       "Progress: 15121 / 60000\t\n"
      ]
     },
     "execution_count": 1,
     "metadata": {},
     "output_type": "execute_result"
    },
    {
     "data": {
      "text/plain": [
       "Progress: 32491 / 60000\t\n"
      ]
     },
     "execution_count": 1,
     "metadata": {},
     "output_type": "execute_result"
    },
    {
     "data": {
      "text/plain": [
       "Progress: 50051 / 60000\t\n"
      ]
     },
     "execution_count": 1,
     "metadata": {},
     "output_type": "execute_result"
    },
    {
     "data": {
      "text/plain": [
       "==> Time taken to learn whole dataset = 51592.754840851ms\t\n"
      ]
     },
     "execution_count": 1,
     "metadata": {},
     "output_type": "execute_result"
    },
    {
     "data": {
      "text/plain": [
       "==> Saving model to /home/franek/ConvNet/results/neuralnetwork.net\t\n"
      ]
     },
     "execution_count": 1,
     "metadata": {},
     "output_type": "execute_result"
    },
    {
     "data": {
      "text/plain": [
       "==> Testing over given dataset:\t\n"
      ]
     },
     "execution_count": 1,
     "metadata": {},
     "output_type": "execute_result"
    },
    {
     "data": {
      "text/plain": [
       "==> Time taken to test whole dataset = 3090.4409885406ms\t\n",
       "ConfusionMatrix:\n",
       "[[     974       0       0       0       0       0       1       2       2       1]   99.388% \n",
       " [       0    1132       0       0       1       1       0       1       0       0]   99.736% \n",
       " [       0       1    1025       0       3       0       0       2       1       0]   99.322% \n",
       " [       0       0       1    1004       0       3       0       0       2       0]   99.406% \n",
       " [       0       0       1       0     978       0       0       0       0       3]   99.593% \n",
       " [       2       0       0       5       0     878       1       1       2       3]   98.430% \n",
       " [       3       2       0       1       4       6     942       0       0       0]   98.330% \n",
       " [       0       3       5       2       0       0       0    1006       2      10]   97.860% \n",
       " [       3       0       2       3       1       0       1       1     960       3]   98.563% \n",
       " [       1       2       0       1       6       2       0       2       1     994]]  98.513% \n",
       " + average row correct: 98.914002180099% \n",
       " + average rowUcol correct (VOC measure): 97.863398790359% \n",
       " + global correct: 98.93%\n",
       "{\n",
       "  valids : FloatTensor - size: 10\n",
       "  mat : LongTensor - size: 10x10\n",
       "  averageUnionValid : 0.9786339879036\n",
       "  _targ_idx : LongTensor - empty\n",
       "  averageValid : 0.98914002180099\n",
       "  classes : table: 0x406c0de0\n",
       "  _prediction : FloatTensor - size: 5x10\n",
       "  _pred_idx : LongTensor - size: 5x1\n",
       "  nclasses : 10\n",
       "  _max : FloatTensor - size: 5x1\n",
       "  _target : FloatTensor - size: 5\n",
       "  unionvalids : FloatTensor - size: 10\n",
       "  totalValid : 0.9893\n",
       "}\n"
      ]
     },
     "execution_count": 1,
     "metadata": {},
     "output_type": "execute_result"
    }
   ],
   "source": [
    "print(\"Progress will be displayed slowly due to the fact that itorch updates xlua.progress every 15 seconds only once.\")\n",
    "require('train')\n",
    "-- Demo of convnet model\n",
    "print(\"First we will be training ten epochs\")\n",
    "opt.batch_size = 5\n",
    "local eps = 10\n",
    "for i=1, eps do\n",
    "    train(trainDataset)\n",
    "    test(testDataset)\n",
    "end"
   ]
  },
  {
   "cell_type": "code",
   "execution_count": 2,
   "metadata": {
    "collapsed": false
   },
   "outputs": [
    {
     "data": {
      "text/plain": [
       "11\t\n",
       "Given image\t\n"
      ]
     },
     "execution_count": 2,
     "metadata": {},
     "output_type": "execute_result"
    },
    {
     "data": {
      "image/png": "[encoded data removed]",
      "text/plain": [
       "Console does not support images"
      ]
     },
     "metadata": {
      "image/png": {
       "height": 28,
       "width": 28
      }
     },
     "output_type": "display_data"
    },
    {
     "data": {
      "text/plain": [
       "Given label: 5\t\n",
       "Image after 1 convolution\t\n"
      ]
     },
     "execution_count": 2,
     "metadata": {},
     "output_type": "execute_result"
    },
    {
     "data": {
      "image/png": "[encoded data removed]",
      "text/plain": [
       "Console does not support images"
      ]
     },
     "metadata": {
      "image/png": {
       "height": 156,
       "width": 156
      }
     },
     "output_type": "display_data"
    },
    {
     "data": {
      "text/plain": [
       "Image after max pooling\t\n"
      ]
     },
     "execution_count": 2,
     "metadata": {},
     "output_type": "execute_result"
    },
    {
     "data": {
      "image/png": "[encoded data removed]",
      "text/plain": [
       "Console does not support images"
      ]
     },
     "metadata": {
      "image/png": {
       "height": 84,
       "width": 84
      }
     },
     "output_type": "display_data"
    },
    {
     "data": {
      "text/plain": [
       "Image after 2 convolution\t\n"
      ]
     },
     "execution_count": 2,
     "metadata": {},
     "output_type": "execute_result"
    },
    {
     "data": {
      "image/png": "[encoded data removed]",
      "text/plain": [
       "Console does not support images"
      ]
     },
     "metadata": {
      "image/png": {
       "height": 110,
       "width": 60
      }
     },
     "output_type": "display_data"
    },
    {
     "data": {
      "text/plain": [
       "Image after 2 max pooling\t\n"
      ]
     },
     "execution_count": 2,
     "metadata": {},
     "output_type": "execute_result"
    },
    {
     "data": {
      "image/png": "[encoded data removed]",
      "text/plain": [
       "Console does not support images"
      ]
     },
     "metadata": {
      "image/png": {
       "height": 66,
       "width": 36
      }
     },
     "output_type": "display_data"
    },
    {
     "data": {
      "text/plain": [
       "Output of the network\t\n",
       "Prediction vector:\t\n"
      ]
     },
     "execution_count": 2,
     "metadata": {},
     "output_type": "execute_result"
    },
    {
     "data": {
      "text/plain": [
       "-22.8447\n",
       "-19.2985\n",
       "-18.5773\n",
       " -4.8043\n",
       "-27.1976\n",
       " -0.0083\n",
       "-24.2751\n",
       "-16.3028\n",
       "-13.5172\n",
       "-14.8677\n",
       "[torch.FloatTensor of size 10]\n",
       "\n",
       "Max: \t\n",
       "-0.0082539170980453\t\n",
       "11\t\n"
      ]
     },
     "execution_count": 2,
     "metadata": {},
     "output_type": "execute_result"
    },
    {
     "data": {
      "text/plain": [
       "Given image\t\n"
      ]
     },
     "execution_count": 2,
     "metadata": {},
     "output_type": "execute_result"
    },
    {
     "data": {
      "image/png": "[encoded data removed]",
      "text/plain": [
       "Console does not support images"
      ]
     },
     "metadata": {
      "image/png": {
       "height": 28,
       "width": 28
      }
     },
     "output_type": "display_data"
    },
    {
     "data": {
      "text/plain": [
       "Given label: 0\t\n",
       "Image after 1 convolution\t\n"
      ]
     },
     "execution_count": 2,
     "metadata": {},
     "output_type": "execute_result"
    },
    {
     "data": {
      "image/png": "[encoded data removed]",
      "text/plain": [
       "Console does not support images"
      ]
     },
     "metadata": {
      "image/png": {
       "height": 156,
       "width": 156
      }
     },
     "output_type": "display_data"
    },
    {
     "data": {
      "text/plain": [
       "Image after max pooling\t\n"
      ]
     },
     "execution_count": 2,
     "metadata": {},
     "output_type": "execute_result"
    },
    {
     "data": {
      "image/png": "[encoded data removed]",
      "text/plain": [
       "Console does not support images"
      ]
     },
     "metadata": {
      "image/png": {
       "height": 84,
       "width": 84
      }
     },
     "output_type": "display_data"
    },
    {
     "data": {
      "text/plain": [
       "Image after 2 convolution\t\n"
      ]
     },
     "execution_count": 2,
     "metadata": {},
     "output_type": "execute_result"
    },
    {
     "data": {
      "image/png": "[encoded data removed]",
      "text/plain": [
       "Console does not support images"
      ]
     },
     "metadata": {
      "image/png": {
       "height": 110,
       "width": 60
      }
     },
     "output_type": "display_data"
    },
    {
     "data": {
      "text/plain": [
       "Image after 2 max pooling\t\n"
      ]
     },
     "execution_count": 2,
     "metadata": {},
     "output_type": "execute_result"
    },
    {
     "data": {
      "image/png": "[encoded data removed]",
      "text/plain": [
       "Console does not support images"
      ]
     },
     "metadata": {
      "image/png": {
       "height": 66,
       "width": 36
      }
     },
     "output_type": "display_data"
    },
    {
     "data": {
      "text/plain": [
       "Output of the network\t\n"
      ]
     },
     "execution_count": 2,
     "metadata": {},
     "output_type": "execute_result"
    },
    {
     "data": {
      "text/plain": [
       "Prediction vector:\t\n",
       "-1.3417e-05\n",
       "-1.7446e+01\n",
       "-1.1340e+01\n",
       "-1.7716e+01\n",
       "-1.7629e+01\n",
       "-1.8837e+01\n",
       "-1.3870e+01\n",
       "-1.8002e+01\n",
       "-1.5692e+01\n",
       "-1.4108e+01\n",
       "[torch.FloatTensor of size 10]\n",
       "\n",
       "Max: \t\n",
       "-1.3416572073766e-05\t\n",
       "11\t\n",
       "Given image\t\n"
      ]
     },
     "execution_count": 2,
     "metadata": {},
     "output_type": "execute_result"
    },
    {
     "data": {
      "image/png": "[encoded data removed]",
      "text/plain": [
       "Console does not support images"
      ]
     },
     "metadata": {
      "image/png": {
       "height": 28,
       "width": 28
      }
     },
     "output_type": "display_data"
    },
    {
     "data": {
      "text/plain": [
       "Given label: 4\t\n",
       "Image after 1 convolution\t\n"
      ]
     },
     "execution_count": 2,
     "metadata": {},
     "output_type": "execute_result"
    },
    {
     "data": {
      "image/png": "[encoded data removed]",
      "text/plain": [
       "Console does not support images"
      ]
     },
     "metadata": {
      "image/png": {
       "height": 156,
       "width": 156
      }
     },
     "output_type": "display_data"
    },
    {
     "data": {
      "text/plain": [
       "Image after max pooling\t\n"
      ]
     },
     "execution_count": 2,
     "metadata": {},
     "output_type": "execute_result"
    },
    {
     "data": {
      "image/png": "[encoded data removed]",
      "text/plain": [
       "Console does not support images"
      ]
     },
     "metadata": {
      "image/png": {
       "height": 84,
       "width": 84
      }
     },
     "output_type": "display_data"
    },
    {
     "data": {
      "text/plain": [
       "Image after 2 convolution\t\n"
      ]
     },
     "execution_count": 2,
     "metadata": {},
     "output_type": "execute_result"
    },
    {
     "data": {
      "image/png": "[encoded data removed]",
      "text/plain": [
       "Console does not support images"
      ]
     },
     "metadata": {
      "image/png": {
       "height": 110,
       "width": 60
      }
     },
     "output_type": "display_data"
    },
    {
     "data": {
      "text/plain": [
       "Image after 2 max pooling\t\n"
      ]
     },
     "execution_count": 2,
     "metadata": {},
     "output_type": "execute_result"
    },
    {
     "data": {
      "image/png": "[encoded data removed]",
      "text/plain": [
       "Console does not support images"
      ]
     },
     "metadata": {
      "image/png": {
       "height": 66,
       "width": 36
      }
     },
     "output_type": "display_data"
    },
    {
     "data": {
      "text/plain": [
       "Output of the network\t\n"
      ]
     },
     "execution_count": 2,
     "metadata": {},
     "output_type": "execute_result"
    },
    {
     "data": {
      "text/plain": [
       "Prediction vector:\t\n",
       "-2.0939e+01\n",
       "-1.5335e+01\n",
       "-1.4962e+01\n",
       "-1.5199e+01\n",
       "-2.1453e-04\n",
       "-1.8393e+01\n",
       "-2.0498e+01\n",
       "-1.1642e+01\n",
       "-1.3968e+01\n",
       "-8.5335e+00\n",
       "[torch.FloatTensor of size 10]\n",
       "\n",
       "Max: \t\n",
       "-0.00021453479712363\t\n",
       "11\t\n",
       "Given image\t\n"
      ]
     },
     "execution_count": 2,
     "metadata": {},
     "output_type": "execute_result"
    },
    {
     "data": {
      "image/png": "[encoded data removed]",
      "text/plain": [
       "Console does not support images"
      ]
     },
     "metadata": {
      "image/png": {
       "height": 28,
       "width": 28
      }
     },
     "output_type": "display_data"
    },
    {
     "data": {
      "text/plain": [
       "Given label: 1\t\n",
       "Image after 1 convolution\t\n"
      ]
     },
     "execution_count": 2,
     "metadata": {},
     "output_type": "execute_result"
    },
    {
     "data": {
      "image/png": "[encoded data removed]",
      "text/plain": [
       "Console does not support images"
      ]
     },
     "metadata": {
      "image/png": {
       "height": 156,
       "width": 156
      }
     },
     "output_type": "display_data"
    },
    {
     "data": {
      "text/plain": [
       "Image after max pooling\t\n"
      ]
     },
     "execution_count": 2,
     "metadata": {},
     "output_type": "execute_result"
    },
    {
     "data": {
      "image/png": "[encoded data removed]",
      "text/plain": [
       "Console does not support images"
      ]
     },
     "metadata": {
      "image/png": {
       "height": 84,
       "width": 84
      }
     },
     "output_type": "display_data"
    },
    {
     "data": {
      "text/plain": [
       "Image after 2 convolution\t\n"
      ]
     },
     "execution_count": 2,
     "metadata": {},
     "output_type": "execute_result"
    },
    {
     "data": {
      "image/png": "[encoded data removed]",
      "text/plain": [
       "Console does not support images"
      ]
     },
     "metadata": {
      "image/png": {
       "height": 110,
       "width": 60
      }
     },
     "output_type": "display_data"
    },
    {
     "data": {
      "text/plain": [
       "Image after 2 max pooling\t\n"
      ]
     },
     "execution_count": 2,
     "metadata": {},
     "output_type": "execute_result"
    },
    {
     "data": {
      "image/png": "[encoded data removed]",
      "text/plain": [
       "Console does not support images"
      ]
     },
     "metadata": {
      "image/png": {
       "height": 66,
       "width": 36
      }
     },
     "output_type": "display_data"
    },
    {
     "data": {
      "text/plain": [
       "Output of the network\t\n"
      ]
     },
     "execution_count": 2,
     "metadata": {},
     "output_type": "execute_result"
    },
    {
     "data": {
      "text/plain": [
       "Prediction vector:\t\n",
       "-1.3238e+01\n",
       "-4.8460e-04\n",
       "-1.1888e+01\n",
       "-1.8191e+01\n",
       "-8.1066e+00\n",
       "-1.8980e+01\n",
       "-1.4040e+01\n",
       "-8.9007e+00\n",
       "-1.0786e+01\n",
       "-1.4142e+01\n",
       "[torch.FloatTensor of size 10]\n",
       "\n",
       "Max: \t\n",
       "-0.00048459513345733\t\n",
       "11\t\n",
       "Given image\t\n"
      ]
     },
     "execution_count": 2,
     "metadata": {},
     "output_type": "execute_result"
    },
    {
     "data": {
      "image/png": "[encoded data removed]",
      "text/plain": [
       "Console does not support images"
      ]
     },
     "metadata": {
      "image/png": {
       "height": 28,
       "width": 28
      }
     },
     "output_type": "display_data"
    },
    {
     "data": {
      "text/plain": [
       "Given label: 9\t\n",
       "Image after 1 convolution\t\n"
      ]
     },
     "execution_count": 2,
     "metadata": {},
     "output_type": "execute_result"
    },
    {
     "data": {
      "image/png": "[encoded data removed]",
      "text/plain": [
       "Console does not support images"
      ]
     },
     "metadata": {
      "image/png": {
       "height": 156,
       "width": 156
      }
     },
     "output_type": "display_data"
    },
    {
     "data": {
      "text/plain": [
       "Image after max pooling\t\n"
      ]
     },
     "execution_count": 2,
     "metadata": {},
     "output_type": "execute_result"
    },
    {
     "data": {
      "text/plain": [
       "Image after 2 convolution\t\n"
      ]
     },
     "execution_count": 2,
     "metadata": {},
     "output_type": "execute_result"
    },
    {
     "data": {
      "image/png": "[encoded data removed]",
      "text/plain": [
       "Console does not support images"
      ]
     },
     "metadata": {
      "image/png": {
       "height": 84,
       "width": 84
      }
     },
     "output_type": "display_data"
    },
    {
     "data": {
      "image/png": "[encoded data removed]",
      "text/plain": [
       "Console does not support images"
      ]
     },
     "metadata": {
      "image/png": {
       "height": 110,
       "width": 60
      }
     },
     "output_type": "display_data"
    },
    {
     "data": {
      "text/plain": [
       "Image after 2 max pooling\t\n"
      ]
     },
     "execution_count": 2,
     "metadata": {},
     "output_type": "execute_result"
    },
    {
     "data": {
      "image/png": "[encoded data removed]",
      "text/plain": [
       "Console does not support images"
      ]
     },
     "metadata": {
      "image/png": {
       "height": 66,
       "width": 36
      }
     },
     "output_type": "display_data"
    },
    {
     "data": {
      "text/plain": [
       "Output of the network\t\n"
      ]
     },
     "execution_count": 2,
     "metadata": {},
     "output_type": "execute_result"
    },
    {
     "data": {
      "text/plain": [
       "Prediction vector:\t\n",
       "-2.1474e+01\n",
       "-1.8327e+01\n",
       "-2.1257e+01\n",
       "-1.4425e+01\n",
       "-9.2944e+00\n",
       "-1.8903e+01\n",
       "-2.7312e+01\n",
       "-1.3698e+01\n",
       "-1.1867e+01\n",
       "-1.0520e-04\n",
       "[torch.FloatTensor of size 10]\n",
       "\n",
       "Max: \t\n",
       "-0.00010520403156988\t\n"
      ]
     },
     "execution_count": 2,
     "metadata": {},
     "output_type": "execute_result"
    }
   ],
   "source": [
    "local examples = 5\n",
    "-- Now passing few images through our network layers/ not using batch normalization and dropout\n",
    "for i = 1, examples do\n",
    "    local net = model:getNeuralNetwork() -- or torch.load(paths.concat('results', 'neuralnetwork.net'))\n",
    "    print(net:size())\n",
    "    local x = trainDataset[i].x\n",
    "    -- Because they have to be from range 1..10 so 0=1, 1=2, ... 9=10\n",
    "    local y = trainDataset[i].y -1\n",
    "    print(\"Given image\")\n",
    "    itorch.image(x)\n",
    "    print(\"Given label: \" .. y)\n",
    "    print(\"Image after 1 convolution\")\n",
    "    local output = net:get(1):forward(x)\n",
    "    itorch.image(output)\n",
    "    --print(\"Image after 'ReLU'\")\n",
    "    output = net:get(2):forward(output)\n",
    "    --itorch.image(output)\n",
    "    print(\"Image after max pooling\")\n",
    "    output = net:get(3):forward(output)\n",
    "    itorch.image(output)\n",
    "    print(\"Image after 2 convolution\")\n",
    "    output = net:get(4):forward(output)\n",
    "    itorch.image(output)\n",
    "    --print(\"Image after 2 'ReLU'\")\n",
    "    output = net:get(5):forward(output)\n",
    "    --itorch.image(output)\n",
    "    print(\"Image after 2 max pooling\")\n",
    "    output = net:get(6):forward(output)\n",
    "    itorch.image(output)\n",
    "    print(\"Output of the network\")\n",
    "    output = net:forward(x)\n",
    "    print(\"Prediction vector:\" )\n",
    "    print(output)\n",
    "    print(\"Max: \")\n",
    "    print(output:max())\n",
    "end"
   ]
  },
  {
   "cell_type": "code",
   "execution_count": null,
   "metadata": {
    "collapsed": true
   },
   "outputs": [],
   "source": []
  }
 ],
 "metadata": {
  "kernelspec": {
   "display_name": "iTorch",
   "language": "lua",
   "name": "itorch"
  },
  "language_info": {
   "name": "lua",
   "version": "20100"
  }
 },
 "nbformat": 4,
 "nbformat_minor": 0
}
